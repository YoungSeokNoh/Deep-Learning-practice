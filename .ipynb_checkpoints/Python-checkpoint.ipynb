{
 "cells": [
  {
   "cell_type": "code",
   "execution_count": null,
   "id": "41e9a9a0",
   "metadata": {},
   "outputs": [],
   "source": [
    "#연습문제"
   ]
  },
  {
   "cell_type": "code",
   "execution_count": 47,
   "id": "654d32b3",
   "metadata": {},
   "outputs": [
    {
     "data": {
      "text/plain": [
       "['p', 'y', 't']"
      ]
     },
     "execution_count": 47,
     "metadata": {},
     "output_type": "execute_result"
    }
   ],
   "source": [
    "s = 'python'\n",
    "s[2]\n",
    "s[:3]\n",
    "s1 = list(s)\n",
    "s1[:3]"
   ]
  },
  {
   "cell_type": "code",
   "execution_count": 46,
   "id": "514c37f1",
   "metadata": {},
   "outputs": [
    {
     "data": {
      "text/plain": [
       "'pyt'"
      ]
     },
     "execution_count": 46,
     "metadata": {},
     "output_type": "execute_result"
    }
   ],
   "source": [
    "s = 'python'\n",
    "s[2]\n",
    "s[:3]"
   ]
  },
  {
   "cell_type": "code",
   "execution_count": 51,
   "id": "8f2f5efc",
   "metadata": {},
   "outputs": [
    {
     "data": {
      "text/plain": [
       "('hi python', 'hi hi')"
      ]
     },
     "execution_count": 51,
     "metadata": {},
     "output_type": "execute_result"
    }
   ],
   "source": [
    "s='hi python'\n",
    "b=s.replace('python',s[:2])\n",
    "s,b"
   ]
  },
  {
   "cell_type": "code",
   "execution_count": 58,
   "id": "a0ed9a73",
   "metadata": {},
   "outputs": [
    {
     "name": "stdout",
     "output_type": "stream",
     "text": [
      "20201225\n"
     ]
    }
   ],
   "source": [
    "s = \"2020-12-25\"\n",
    "print(s.replace(\"-\",\"\"))\n",
    "\n"
   ]
  },
  {
   "cell_type": "code",
   "execution_count": 74,
   "id": "59004587",
   "metadata": {},
   "outputs": [
    {
     "name": "stdout",
     "output_type": "stream",
     "text": [
      "tom is 13 years old\n",
      "hom is 13 years old\n"
     ]
    }
   ],
   "source": [
    "s=\"%s is %d years old\" %('tom', 13)\n",
    "print(s)\n",
    "y = \"{} is {} years old\" .format('hom', 13)\n",
    "print(y)"
   ]
  },
  {
   "cell_type": "code",
   "execution_count": 79,
   "id": "d3be6920",
   "metadata": {},
   "outputs": [
    {
     "name": "stdout",
     "output_type": "stream",
     "text": [
      "10 / 3 = 3\n"
     ]
    }
   ],
   "source": [
    "a=10\n",
    "b=3\n",
    "c = \"%d / %d = %d\" %(a,b,a/b)\n",
    "print(c)"
   ]
  },
  {
   "cell_type": "code",
   "execution_count": 108,
   "id": "250d0419",
   "metadata": {},
   "outputs": [
    {
     "name": "stdout",
     "output_type": "stream",
     "text": [
      "      3\n",
      "X    12\n",
      "-------\n",
      "     36\n"
     ]
    }
   ],
   "source": [
    "a=3 \n",
    "b=12\n",
    "print('%7d\\nX%6d'%(a,b))\n",
    "print('-'*7)\n",
    "print('%7d'%(a*b))\n"
   ]
  },
  {
   "cell_type": "code",
   "execution_count": 7,
   "id": "7a8f8f19",
   "metadata": {},
   "outputs": [
    {
     "name": "stdout",
     "output_type": "stream",
     "text": [
      "내 이름은 철수입니다.\n",
      "내 이름은{철수}입니다.\n"
     ]
    }
   ],
   "source": [
    "print(\"내 이름은 {}입니다.\".format(\"철수\"))\n",
    "print(\"내 이름은{{{}}}입니다.\".format(\"철수\"))"
   ]
  },
  {
   "cell_type": "code",
   "execution_count": 8,
   "id": "ec3d3578",
   "metadata": {},
   "outputs": [
    {
     "data": {
      "text/plain": [
       "'철수의 수학 점수는 100점입니다.'"
      ]
     },
     "execution_count": 8,
     "metadata": {},
     "output_type": "execute_result"
    }
   ],
   "source": [
    "\"{2}의 {0} 점수는 {1}점입니다.\".format(\"수학\", 100, \"철수\")"
   ]
  },
  {
   "cell_type": "code",
   "execution_count": 11,
   "id": "51a453e5",
   "metadata": {},
   "outputs": [
    {
     "data": {
      "text/plain": [
       "'d'"
      ]
     },
     "execution_count": 11,
     "metadata": {},
     "output_type": "execute_result"
    }
   ],
   "source": [
    "\"[{:>20}]\".format(\"*\")"
   ]
  },
  {
   "cell_type": "code",
   "execution_count": 13,
   "id": "9db11996",
   "metadata": {},
   "outputs": [
    {
     "data": {
      "text/plain": [
       "'[         *          ]'"
      ]
     },
     "execution_count": 13,
     "metadata": {},
     "output_type": "execute_result"
    }
   ],
   "source": [
    "\"[{:^20}]\".format(\"*\")"
   ]
  },
  {
   "cell_type": "code",
   "execution_count": 17,
   "id": "9ca8b639",
   "metadata": {},
   "outputs": [
    {
     "data": {
      "text/plain": [
       "'[       1,234,567,890]'"
      ]
     },
     "execution_count": 17,
     "metadata": {},
     "output_type": "execute_result"
    }
   ],
   "source": [
    "\"[{:>20,}]\".format(1234567890)"
   ]
  },
  {
   "cell_type": "code",
   "execution_count": 19,
   "id": "aea4d856",
   "metadata": {},
   "outputs": [
    {
     "data": {
      "text/plain": [
       "'[*******************3]'"
      ]
     },
     "execution_count": 19,
     "metadata": {},
     "output_type": "execute_result"
    }
   ],
   "source": [
    "\"[{:*>20}]\".format(3)"
   ]
  },
  {
   "cell_type": "code",
   "execution_count": 22,
   "id": "fed9ae4c",
   "metadata": {},
   "outputs": [
    {
     "data": {
      "text/plain": [
       "'[--------------------]'"
      ]
     },
     "execution_count": 22,
     "metadata": {},
     "output_type": "execute_result"
    }
   ],
   "source": [
    "\"[{:-<20}]\".format(\"\")"
   ]
  },
  {
   "cell_type": "code",
   "execution_count": 24,
   "id": "f93b564d",
   "metadata": {},
   "outputs": [
    {
     "data": {
      "text/plain": [
       "'리스트의 첫번째 원소=10'"
      ]
     },
     "execution_count": 24,
     "metadata": {},
     "output_type": "execute_result"
    }
   ],
   "source": [
    "x=[10,11,12]\n",
    "\"리스트의 첫번째 원소={0[0]}\".format(x)"
   ]
  },
  {
   "cell_type": "code",
   "execution_count": 27,
   "id": "64e962f8",
   "metadata": {},
   "outputs": [
    {
     "data": {
      "text/plain": [
       "'사전의 b키 값=11'"
      ]
     },
     "execution_count": 27,
     "metadata": {},
     "output_type": "execute_result"
    }
   ],
   "source": [
    "y={\"a\":10,\"b\":11,\"c\":12}\n",
    "\"사전의 b키 값={[b]}\".format(y)"
   ]
  },
  {
   "cell_type": "code",
   "execution_count": 56,
   "id": "cd406237",
   "metadata": {},
   "outputs": [
    {
     "name": "stdout",
     "output_type": "stream",
     "text": [
      "   123,456\n",
      "+    7,890\n",
      "----------\n",
      "   131,346\n"
     ]
    }
   ],
   "source": [
    "a=123456\n",
    "b=7890\n",
    "print(\"{:>10,}\".format(a))\n",
    "print(\"+{:>9,}\".format(b))\n",
    "print(\"-\"*10)\n",
    "print(\"{:>10,}\".format(a+b))\n"
   ]
  },
  {
   "cell_type": "code",
   "execution_count": 64,
   "id": "7bdc04d5",
   "metadata": {},
   "outputs": [
    {
     "name": "stdout",
     "output_type": "stream",
     "text": [
      "    3\n",
      "x  12\n",
      "-----\n",
      "   36\n"
     ]
    }
   ],
   "source": [
    "a=3\n",
    "b=12\n",
    "print(\"{:>5}\".format(a))\n",
    "print(\"x{:>4}\".format(b))\n",
    "print(\"-\"*5)\n",
    "print(\"{:>5}\".format(a*b))"
   ]
  },
  {
   "cell_type": "code",
   "execution_count": 65,
   "id": "8868994c",
   "metadata": {},
   "outputs": [
    {
     "name": "stdout",
     "output_type": "stream",
     "text": [
      "홍길동은 30살 입니다.\n"
     ]
    }
   ],
   "source": [
    "name=\"홍길동\"\n",
    "age=30\n",
    "print(f\"{name}은 {age}살 입니다.\")"
   ]
  },
  {
   "cell_type": "code",
   "execution_count": 74,
   "id": "c076d145",
   "metadata": {},
   "outputs": [
    {
     "name": "stdout",
     "output_type": "stream",
     "text": [
      "    3\n",
      "x  12\n",
      "-----\n",
      "   36\n"
     ]
    }
   ],
   "source": [
    "a=3\n",
    "b=12\n",
    "print(f\"{a:>5}\")\n",
    "print(f\"x{b:>4}\")\n",
    "print(\"-\"*5)\n",
    "print(f\"{a*b:>5}\")"
   ]
  },
  {
   "cell_type": "code",
   "execution_count": 78,
   "id": "2172b04d",
   "metadata": {},
   "outputs": [
    {
     "name": "stdout",
     "output_type": "stream",
     "text": [
      "   123,456\n",
      "+    7,890\n",
      "----------\n",
      "   131,346\n"
     ]
    }
   ],
   "source": [
    "a=123456\n",
    "b=7890\n",
    "print(f\"{a:>10,}\")\n",
    "print(f\"+{b:>9,}\")\n",
    "print(\"-\"*10)\n",
    "print(f\"{a+b:>10,}\")"
   ]
  }
 ],
 "metadata": {
  "kernelspec": {
   "display_name": "Python 3",
   "language": "python",
   "name": "python3"
  },
  "language_info": {
   "codemirror_mode": {
    "name": "ipython",
    "version": 3
   },
   "file_extension": ".py",
   "mimetype": "text/x-python",
   "name": "python",
   "nbconvert_exporter": "python",
   "pygments_lexer": "ipython3",
   "version": "3.8.8"
  }
 },
 "nbformat": 4,
 "nbformat_minor": 5
}
