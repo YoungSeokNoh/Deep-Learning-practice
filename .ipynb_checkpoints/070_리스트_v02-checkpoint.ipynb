{
 "cells": [
  {
   "cell_type": "markdown",
   "metadata": {},
   "source": [
    "> 이 문서의 폰트크기는 브라우저 인쇄시 인쇄 배율 75%로 최적화 되어 있음"
   ]
  },
  {
   "cell_type": "code",
   "execution_count": 1,
   "metadata": {},
   "outputs": [],
   "source": [
    "# multi line 출력을 위한 셀 -- 필요시 주석해제 후 이 셀을 실행시키기 바람\n",
    "from IPython.core.interactiveshell import InteractiveShell\n",
    "InteractiveShell.ast_node_interactivity = \"all\""
   ]
  },
  {
   "cell_type": "markdown",
   "metadata": {},
   "source": [
    "# 리스트(List)\n",
    "> 1. 리스트 생성,  인덱싱 및 슬라이싱   \n",
    "> 2. 원소의 추가와 삭제    \n",
    "> 3. 리스트의 병합과 확장  \n",
    "> 4. 컴플리헨션(Complehension)\n",
    "> 5. 리스트 처리 관련 주요 함수   \n",
    "> 6. 리스트에 대한 반복문 사례\n",
    "   \n",
    "\n",
    "# 1. 리스트  생성,  인덱싱 및 스라이싱\n",
    "> (1) 리스트 생성 및 변수 할당   \n",
    "> (2) 인덱싱 <br>\n",
    "> (3) 슬라이싱    \n",
    "\n",
    "## (1) 리스트 생성 및 변수 할당\n",
    "O 리스트는 다수의 원소로 구성된 복합 데이터이며 리스트 원소는 다양한 유형의 객체\n",
    "\n",
    "  - 전통적인 프로그래밍 언어의 배열과는 다른 개념임\n",
    "  - 리스트 에는 여러개의 자료는 순서를 가지며, 개수는 제한이 없다.\n",
    "  \n",
    "O 크기나 내용 변경 가능(immutable)\n",
    "\n",
    "O 리스트의 표현 대괄호(<span style=color:blue>[ ]</span>를 사용하며, 생성된 리스트는 변수에 할당할 수 있다.\n",
    "\n",
    "  >리스트변수 = [자료1, 자료2, ...]\n",
    "  \n",
    "O list() 함수를 사용하여 기존 다른 데이터를 리스트로 변환할 수도 있다.\n",
    "\n",
    "#### 사례"
   ]
  },
  {
   "cell_type": "code",
   "execution_count": 2,
   "metadata": {},
   "outputs": [],
   "source": [
    "# 리스트 생성 및 변수에 할당 (주, 리스트 변수 생성)\n",
    "a_list = [2, 3, 7, None]\n"
   ]
  },
  {
   "cell_type": "code",
   "execution_count": 3,
   "metadata": {
    "scrolled": true
   },
   "outputs": [
    {
     "data": {
      "text/plain": [
       "[1, 2, 3]"
      ]
     },
     "execution_count": 3,
     "metadata": {},
     "output_type": "execute_result"
    }
   ],
   "source": [
    "# list() 함수는 interator나 generator\n",
    "tup = (1, 2, 3)\n",
    "x = list(tup)\n",
    "x"
   ]
  },
  {
   "cell_type": "markdown",
   "metadata": {},
   "source": [
    "### 복수 할당"
   ]
  },
  {
   "cell_type": "markdown",
   "metadata": {},
   "source": [
    "- 리스트의 각 원소값을 여러개의 변수에 나누어 넣고 싶을 때는 쉼표를 사용한 복수 할당(multiple/unpack assignment)을 사용한다. \n",
    "- 할당 기호의 왼쪽에 쉼표로 구분된 변수를 여러개 넣으면 오른쪽에 있는 리스트의 각 원소값이 들어간다."
   ]
  },
  {
   "cell_type": "code",
   "execution_count": 4,
   "metadata": {},
   "outputs": [
    {
     "data": {
      "text/plain": [
       "1"
      ]
     },
     "execution_count": 4,
     "metadata": {},
     "output_type": "execute_result"
    },
    {
     "data": {
      "text/plain": [
       "2"
      ]
     },
     "execution_count": 4,
     "metadata": {},
     "output_type": "execute_result"
    },
    {
     "data": {
      "text/plain": [
       "3"
      ]
     },
     "execution_count": 4,
     "metadata": {},
     "output_type": "execute_result"
    }
   ],
   "source": [
    "h = [1, 2, 3]\n",
    "h1, h2, h3 = h\n",
    "\n",
    "h1\n",
    "h2\n",
    "h3"
   ]
  },
  {
   "cell_type": "markdown",
   "metadata": {},
   "source": [
    "- 단 복수 할당을 할 때는 값이 들어갈 변수의 개수와 리스트의 길이가 같아야 한다. 그렇지 않으면 오류가 발생한다."
   ]
  },
  {
   "cell_type": "code",
   "execution_count": 5,
   "metadata": {},
   "outputs": [],
   "source": [
    "# h1, h2 = h  # 주석 제거후 실습 요망"
   ]
  },
  {
   "cell_type": "markdown",
   "metadata": {},
   "source": [
    "### 리스트의 원소 구성\n",
    "리스트의 원소의 타입은 동일하지 않아도 되며 거의 모든 객체가 원소로 허용된다.\n",
    "  - 리스트 변수에는 자료형이 같은 자료만 담을 수 있는 것은 아니고 자료형이 다른 자료들도 담을 수 있다. \n",
    "  - 즉, 정수형 자료와 실수형 자료, 그리고 문자열 자료를 한 리스트 변수에 넣을 수도 있으며, 리스트, 사전 등의 복합 데이터로 넣을 수 있다."
   ]
  },
  {
   "cell_type": "code",
   "execution_count": 6,
   "metadata": {},
   "outputs": [
    {
     "data": {
      "text/plain": [
       "(1, 3.14, 'pi')"
      ]
     },
     "execution_count": 6,
     "metadata": {},
     "output_type": "execute_result"
    },
    {
     "data": {
      "text/plain": [
       "[1, 10]"
      ]
     },
     "execution_count": 6,
     "metadata": {},
     "output_type": "execute_result"
    },
    {
     "data": {
      "text/plain": [
       "[2, 20]"
      ]
     },
     "execution_count": 6,
     "metadata": {},
     "output_type": "execute_result"
    }
   ],
   "source": [
    "# 여러 다른 데이터형의 데이터를 포함한 사례\n",
    "d = [1, 3.14, \"pi\"]\n",
    "\n",
    "d[0], d[1], d[2]\n",
    "\n",
    "# 리스트가 다른 리스트를 원소로 포함한 사례\n",
    "e = [[1, 10], [2, 20]]\n",
    "\n",
    "e[0]\n",
    "e[1]"
   ]
  },
  {
   "cell_type": "markdown",
   "metadata": {},
   "source": [
    "## (2) 인덱싱"
   ]
  },
  {
   "cell_type": "markdown",
   "metadata": {},
   "source": [
    "O 리스트에서 특정한 원소를 나타내는 것을 인덱싱(indexing)이라고 하며, 인덱싱을 통해 해당 원소의 읽기와 쓰기를 수행한다.\n",
    "\n",
    "O 리스트 인덱싱은 C-언어의 1차원 배열 원소 인덱싱과 동일하다.\n",
    "  - 대괄호(bracket)를 변수 이름 끝에 붙이고, 그 안에 자료의 순서를 뜻하는 숫자를 넣는다.\n",
    "\n",
    "```Python\n",
    "      리스트변수[인덱스]\n",
    "```"
   ]
  },
  {
   "cell_type": "code",
   "execution_count": 7,
   "metadata": {},
   "outputs": [
    {
     "data": {
      "text/plain": [
       "80"
      ]
     },
     "execution_count": 7,
     "metadata": {},
     "output_type": "execute_result"
    },
    {
     "data": {
      "text/plain": [
       "90"
      ]
     },
     "execution_count": 7,
     "metadata": {},
     "output_type": "execute_result"
    },
    {
     "data": {
      "text/plain": [
       "85.0"
      ]
     },
     "execution_count": 7,
     "metadata": {},
     "output_type": "execute_result"
    },
    {
     "data": {
      "text/plain": [
       "[80, 90, 200]"
      ]
     },
     "execution_count": 7,
     "metadata": {},
     "output_type": "execute_result"
    }
   ],
   "source": [
    "x = [80, 90, '홍길동']\n",
    "\n",
    "# 원소 쓰기(변경)\n",
    "x[0]\n",
    "x[1]\n",
    "(x[0] + x[1]) / 2\n",
    "\n",
    "# 원소 쓰기(변경)\n",
    "x[2] = 200  \n",
    "x\n"
   ]
  },
  {
   "cell_type": "code",
   "execution_count": 8,
   "metadata": {},
   "outputs": [
    {
     "data": {
      "text/plain": [
       "([1, 10], [2, 20])"
      ]
     },
     "execution_count": 8,
     "metadata": {},
     "output_type": "execute_result"
    },
    {
     "data": {
      "text/plain": [
       "(1, 10, 2, 20)"
      ]
     },
     "execution_count": 8,
     "metadata": {},
     "output_type": "execute_result"
    }
   ],
   "source": [
    "# 리스트가 다른 리스트를 원소로 포함한 경우\n",
    "e = [[1, 10], [2, 20]]\n",
    "\n",
    "e[0], e[1]\n",
    "\n",
    "e[0][0], e[0][1], e[1][0], e[1][1]  "
   ]
  },
  {
   "cell_type": "markdown",
   "metadata": {},
   "source": [
    "### 음수를 사용한  인덱싱"
   ]
  },
  {
   "cell_type": "markdown",
   "metadata": {},
   "source": [
    "- 음수 인덱스를 사용하면 뒤에서부터 원소를 가리키게 된다. \n",
    "- 이때 가장 뒤의 원소는 0이 아니라 -1 이라는 인덱스를 사용한다."
   ]
  },
  {
   "cell_type": "code",
   "execution_count": 9,
   "metadata": {},
   "outputs": [
    {
     "data": {
      "text/plain": [
       "9"
      ]
     },
     "execution_count": 9,
     "metadata": {},
     "output_type": "execute_result"
    },
    {
     "data": {
      "text/plain": [
       "[5, 6, 7]"
      ]
     },
     "execution_count": 9,
     "metadata": {},
     "output_type": "execute_result"
    }
   ],
   "source": [
    "g = list(range(10))\n",
    "g[-1]\n",
    "\n",
    "g[-5:-2]"
   ]
  },
  {
   "cell_type": "markdown",
   "metadata": {},
   "source": [
    "- 음수 인덱스를 사용한 슬라이싱에서 두 번째 인덱스가 생략되면 끝까지를 의미하며, 이는 -1을 쓸 때와 다르다는 점 유의"
   ]
  },
  {
   "cell_type": "code",
   "execution_count": 10,
   "metadata": {},
   "outputs": [
    {
     "data": {
      "text/plain": [
       "[7, 8, 9]"
      ]
     },
     "execution_count": 10,
     "metadata": {},
     "output_type": "execute_result"
    },
    {
     "data": {
      "text/plain": [
       "[7, 8]"
      ]
     },
     "execution_count": 10,
     "metadata": {},
     "output_type": "execute_result"
    }
   ],
   "source": [
    "g[-3:]\n",
    "\n",
    "g[-3:-1]"
   ]
  },
  {
   "cell_type": "markdown",
   "metadata": {},
   "source": [
    "#### 연습 문제 1\n",
    "\n",
    "1. 리스트에는 숫자 뿐 아니라 문자 등 어떤 값도 넣을 수 있다. 10명으로 이루어진 반의 학생 이름을 생각하여 리스트 변수로 만들어 본다.\n",
    "\n",
    "2. 전학생이 왔다고 가정하여 리스트에 이름을 추가한다.\n",
    "\n",
    "3. 한 명이 전학을 갔다고 가정하고 리스트에서 이름을 삭제한다.\n",
    "\n",
    "4. 슬라이싱으로 5번 학생(1번 학생은 가장 처음에 있는 학생이다.)부터 9번 학생까지 5명의 이름을 담은 새로운 리스트를 만든다."
   ]
  },
  {
   "cell_type": "markdown",
   "metadata": {},
   "source": [
    "#### 연습 문제 2\n",
    "\n",
    "시험 성적을 나타내는 임의의 숫자 5개를 리스트 변수 score에 넣고 평균을 구한다."
   ]
  },
  {
   "cell_type": "markdown",
   "metadata": {},
   "source": [
    "## (3) 슬라이싱(Slicing)\n",
    "- 순서 자료형(리스트, 튜플, ndarray)은 색인 연산자 [ ]안에 start:stop을 지정해서 원하는 크기만큼 잘라낼 수 있음.\n",
    "  - start는 포함되고 stop은 제외\n",
    "- 슬라이스에 다른 순차 자료형을 대입하는 것도 가능. "
   ]
  },
  {
   "cell_type": "code",
   "execution_count": 11,
   "metadata": {},
   "outputs": [
    {
     "data": {
      "text/plain": [
       "[2, 3, 7, 5]"
      ]
     },
     "execution_count": 11,
     "metadata": {},
     "output_type": "execute_result"
    }
   ],
   "source": [
    "seq = [7, 2, 3, 7, 5, 6, 0, 1]\n",
    "seq[1:5]"
   ]
  },
  {
   "cell_type": "code",
   "execution_count": 12,
   "metadata": {},
   "outputs": [
    {
     "data": {
      "text/plain": [
       "[7, 2, 3, 6, 3, 5, 6, 0, 1]"
      ]
     },
     "execution_count": 12,
     "metadata": {},
     "output_type": "execute_result"
    }
   ],
   "source": [
    "seq[3:4] = [6, 3]\n",
    "seq"
   ]
  },
  {
   "cell_type": "code",
   "execution_count": 13,
   "metadata": {},
   "outputs": [
    {
     "data": {
      "text/plain": [
       "[7, 2, 3, 6, 3]"
      ]
     },
     "execution_count": 13,
     "metadata": {},
     "output_type": "execute_result"
    },
    {
     "data": {
      "text/plain": [
       "[6, 3, 5, 6, 0, 1]"
      ]
     },
     "execution_count": 13,
     "metadata": {},
     "output_type": "execute_result"
    }
   ],
   "source": [
    "# start나 stop은 생략 가능\n",
    "seq[:5]\n",
    "seq[3:]"
   ]
  },
  {
   "cell_type": "code",
   "execution_count": 14,
   "metadata": {},
   "outputs": [
    {
     "data": {
      "text/plain": [
       "[5, 6, 0, 1]"
      ]
     },
     "execution_count": 14,
     "metadata": {},
     "output_type": "execute_result"
    },
    {
     "data": {
      "text/plain": [
       "[3, 7, 5, 6]"
      ]
     },
     "execution_count": 14,
     "metadata": {},
     "output_type": "execute_result"
    }
   ],
   "source": [
    "# '-' 는 '뒤에서'라는 의미  : -1이 맨 마지막\n",
    "seq = [7, 2, 3, 7, 5, 6, 0, 1]\n",
    "seq[-4:]\n",
    "seq[-6:-2]"
   ]
  },
  {
   "cell_type": "code",
   "execution_count": 15,
   "metadata": {},
   "outputs": [
    {
     "data": {
      "text/plain": [
       "[7, 3, 5, 0]"
      ]
     },
     "execution_count": 15,
     "metadata": {},
     "output_type": "execute_result"
    }
   ],
   "source": [
    "# 두번째 콜론 다음에 간격(step)을 지정 가능\n",
    "seq[::2]"
   ]
  },
  {
   "cell_type": "code",
   "execution_count": 16,
   "metadata": {
    "scrolled": true
   },
   "outputs": [
    {
     "data": {
      "text/plain": [
       "[1, 0, 6, 5, 7, 3, 2, 7]"
      ]
     },
     "execution_count": 16,
     "metadata": {},
     "output_type": "execute_result"
    }
   ],
   "source": [
    "# '-1' 역순으로 반환\n",
    "seq[::-1]"
   ]
  },
  {
   "cell_type": "markdown",
   "metadata": {},
   "source": [
    "# 2. 원소의 추가와 삭제\n",
    "> (1) 원소의 추가   \n",
    "> (2) 원소의 삭제\n",
    "\n",
    "## (1) 원소의 추가\n",
    "- append() 메서드는 리스트의 끝에 새로운 값 추가\n",
    "- insert() 메서드는 특정 위치(0~리스트의 길이-1)에 새로운 값을 추가\n",
    "- 성능을 고려하여 insert()보다는 append()를 권장\n"
   ]
  },
  {
   "cell_type": "code",
   "execution_count": 17,
   "metadata": {},
   "outputs": [
    {
     "data": {
      "text/plain": [
       "['foo', 'bar', 'baz', 'dwarf']"
      ]
     },
     "execution_count": 17,
     "metadata": {},
     "output_type": "execute_result"
    }
   ],
   "source": [
    "b_list = ['foo', 'bar', 'baz']\n",
    "b_list.append('dwarf')\n",
    "b_list"
   ]
  },
  {
   "cell_type": "code",
   "execution_count": 18,
   "metadata": {},
   "outputs": [
    {
     "data": {
      "text/plain": [
       "['foo', 'red', 'bar', 'baz', 'dwarf']"
      ]
     },
     "execution_count": 18,
     "metadata": {},
     "output_type": "execute_result"
    }
   ],
   "source": [
    "b_list.insert(1, 'red')\n",
    "b_list"
   ]
  },
  {
   "cell_type": "markdown",
   "metadata": {},
   "source": [
    "## (2) 원소의 삭제\n",
    "O pop() : 특정 위치의 값을 반환하고 해당 값을 리스트에서 삭제\n",
    "\n",
    "O remove() : 리스트에서 특정 원소값을 명시해서 삭제\n",
    "  - 동일한 값이 여럿 있을 때에는 리스트의 제일 앞에 위치한 값부터 삭제\n",
    "O del 명령어도 원소 삭제에 사용 가능"
   ]
  },
  {
   "cell_type": "code",
   "execution_count": 19,
   "metadata": {},
   "outputs": [
    {
     "data": {
      "text/plain": [
       "'baz'"
      ]
     },
     "execution_count": 19,
     "metadata": {},
     "output_type": "execute_result"
    },
    {
     "data": {
      "text/plain": [
       "['foo', 'bar']"
      ]
     },
     "execution_count": 19,
     "metadata": {},
     "output_type": "execute_result"
    }
   ],
   "source": [
    "# pop() 메서드 사용 사례\n",
    "\n",
    "b_list = ['foo', 'bar', 'baz']\n",
    "b_list.pop(2)\n",
    "b_list"
   ]
  },
  {
   "cell_type": "code",
   "execution_count": 20,
   "metadata": {
    "scrolled": true
   },
   "outputs": [
    {
     "data": {
      "text/plain": [
       "['foo', 'book', 'note', 'foo']"
      ]
     },
     "execution_count": 20,
     "metadata": {},
     "output_type": "execute_result"
    },
    {
     "data": {
      "text/plain": [
       "['book', 'note', 'foo']"
      ]
     },
     "execution_count": 20,
     "metadata": {},
     "output_type": "execute_result"
    }
   ],
   "source": [
    "# remove() 메서드 사용 사례\n",
    "\n",
    "b_list = ['foo', 'book', 'note']\n",
    "b_list.append('foo')\n",
    "b_list\n",
    "\n",
    "b_list.remove('foo')\n",
    "b_list"
   ]
  },
  {
   "cell_type": "code",
   "execution_count": 21,
   "metadata": {},
   "outputs": [
    {
     "data": {
      "text/plain": [
       "[0, 1, 2, 3, 4]"
      ]
     },
     "execution_count": 21,
     "metadata": {},
     "output_type": "execute_result"
    },
    {
     "data": {
      "text/plain": [
       "[1, 2, 3, 4]"
      ]
     },
     "execution_count": 21,
     "metadata": {},
     "output_type": "execute_result"
    },
    {
     "data": {
      "text/plain": [
       "[1, 2, 4]"
      ]
     },
     "execution_count": 21,
     "metadata": {},
     "output_type": "execute_result"
    }
   ],
   "source": [
    "# del 명령어 사용 사례\n",
    "\n",
    "f = list(range(5))\n",
    "f\n",
    "\n",
    "del f[0]\n",
    "f\n",
    "\n",
    "del f[2]\n",
    "f"
   ]
  },
  {
   "cell_type": "markdown",
   "metadata": {},
   "source": [
    "# 3. 리스트의 병합과 확장\n",
    "- '+' 연산자 : 이용해 두 개의 리스트를 합칠 수 있음\n",
    "- extend() 메서드 : 여러 개의 값을 추가\n"
   ]
  },
  {
   "cell_type": "code",
   "execution_count": 22,
   "metadata": {},
   "outputs": [
    {
     "data": {
      "text/plain": [
       "[4, None, 'foo', 7, 8, (2, 3)]"
      ]
     },
     "execution_count": 22,
     "metadata": {},
     "output_type": "execute_result"
    }
   ],
   "source": [
    "[4, None, 'foo'] + [7, 8, (2, 3)]"
   ]
  },
  {
   "cell_type": "code",
   "execution_count": 23,
   "metadata": {},
   "outputs": [
    {
     "data": {
      "text/plain": [
       "[4, None, 'foo', 7, 8, (2, 3)]"
      ]
     },
     "execution_count": 23,
     "metadata": {},
     "output_type": "execute_result"
    }
   ],
   "source": [
    "x = [4, None, 'foo']\n",
    "x.extend([7, 8, (2, 3)])\n",
    "x"
   ]
  },
  {
   "cell_type": "markdown",
   "metadata": {},
   "source": [
    " '+'를 사용해 리스트를 붙이면 새로운 리스트를 생성하고 값을 복사하게 되므로 상대적으로 연산비용이 높음. \n",
    " \n",
    "    - 큰 리스트일수록 extend()가 유리\n",
    "```python\n",
    "      everything = []\n",
    "      for chunk in list_of_lists:\n",
    "        everything.extend(chunk)\n",
    "```\n",
    "    \n",
    "    - 즉, 위 코드가 아래 코드보다 좀 더 빠름\n",
    "```python\n",
    "      everything = []\n",
    "      for chunk in list_of_lists:\n",
    "        everything = everything + chunk\n",
    " ```"
   ]
  },
  {
   "cell_type": "markdown",
   "metadata": {},
   "source": [
    "# 4. 컴플리헨션(complehension)\n",
    "> (1) Complehension의 활용 사례   \n",
    "> (2) 중첩 리스트 complehension\n",
    "\n",
    "O Complehension 은 컬렉션(리스트, 튜플, 집합, 사전)의 모든 원소에 특정 연산을 적용하는 것 \n",
    "  - 파이썬에는 complehension을 위한 여러 수단을 존재\n",
    "\n",
    "O 사례 : 컬렉션 원소를 필터링해서 리스트 생성\n",
    "```Python\n",
    "[expr for val in collection if condition]  \n",
    "```\n",
    "O 위 사례의 의미 :\n",
    "```Python\n",
    "result = []\n",
    "for val in collection:\n",
    "\tif condition:\n",
    "\t\tresult.append(expr)\n",
    "```"
   ]
  },
  {
   "cell_type": "markdown",
   "metadata": {},
   "source": [
    "\n",
    "## (1) Complehension의 활용 사례"
   ]
  },
  {
   "cell_type": "code",
   "execution_count": 24,
   "metadata": {},
   "outputs": [
    {
     "data": {
      "text/plain": [
       "['BAT', 'CAR', 'DOVE', 'PYTHON']"
      ]
     },
     "execution_count": 24,
     "metadata": {},
     "output_type": "execute_result"
    }
   ],
   "source": [
    "# 3 글자 이상 문자열 항목만으로 구성된 리스트 생성\n",
    "strings = ['a', 'as', 'bat', 'car', 'dove', 'python']\n",
    "[x.upper() for x in strings if len(x) > 2]"
   ]
  },
  {
   "cell_type": "code",
   "execution_count": 25,
   "metadata": {},
   "outputs": [
    {
     "data": {
      "text/plain": [
       "{1, 2, 3, 4, 6}"
      ]
     },
     "execution_count": 25,
     "metadata": {},
     "output_type": "execute_result"
    }
   ],
   "source": [
    "# 문자열 항목의 길이로 된 SET 생성\n",
    "unique_lengths = {len(x) for x in strings}\n",
    "unique_lengths"
   ]
  },
  {
   "cell_type": "code",
   "execution_count": 26,
   "metadata": {},
   "outputs": [
    {
     "data": {
      "text/plain": [
       "{1, 2, 3, 4, 6}"
      ]
     },
     "execution_count": 26,
     "metadata": {},
     "output_type": "execute_result"
    }
   ],
   "source": [
    "# map(함수, 리스트) : 함수를 리스트의 각 원소에 적용 (일종의 컴프리핸션)\n",
    "set(map(len, strings))  "
   ]
  },
  {
   "cell_type": "code",
   "execution_count": 27,
   "metadata": {},
   "outputs": [
    {
     "data": {
      "text/plain": [
       "{'a': 0, 'as': 1, 'bat': 2, 'car': 3, 'dove': 4, 'python': 5}"
      ]
     },
     "execution_count": 27,
     "metadata": {},
     "output_type": "execute_result"
    }
   ],
   "source": [
    "# 사전(Dictionary) 생성 \n",
    "loc_mapping = {val : index for index, val in enumerate(strings)}\n",
    "loc_mapping"
   ]
  },
  {
   "cell_type": "markdown",
   "metadata": {},
   "source": [
    "## (2) 중첩 리스트(Nested list) comprehensions\n",
    "- Comprehension 내의 for 순서는 일반 for 루프의 순서와 동일"
   ]
  },
  {
   "cell_type": "markdown",
   "metadata": {},
   "source": [
    "#### 사례 1 \n",
    "- 명단에 있는 이름 중에서  글자 'e'를 2회 이상 포함하고 있는 이름 찾기"
   ]
  },
  {
   "cell_type": "code",
   "execution_count": 28,
   "metadata": {},
   "outputs": [
    {
     "data": {
      "text/plain": [
       "['Steven']"
      ]
     },
     "execution_count": 28,
     "metadata": {},
     "output_type": "execute_result"
    }
   ],
   "source": [
    "all_data = [['John', 'Emily', 'Michael', 'Mary', 'Steven'],\n",
    "            ['Maria', 'Juan', 'Javier', 'Natalia', 'Pilar']]\n",
    "\n",
    "# 일반 구현\n",
    "names_of_interest = []\n",
    "for names in all_data:\n",
    "    enough_es = [name for name in names if name.count('e') >= 2]\n",
    "    names_of_interest.extend(enough_es)\n",
    "names_of_interest"
   ]
  },
  {
   "cell_type": "code",
   "execution_count": 29,
   "metadata": {},
   "outputs": [
    {
     "data": {
      "text/plain": [
       "['Steven']"
      ]
     },
     "execution_count": 29,
     "metadata": {},
     "output_type": "execute_result"
    }
   ],
   "source": [
    "# 필터링 기반 생성법을 사용한 구현 - for 순서는 일반 for 루프의 순서와 동일\n",
    "result = [name for names in all_data for name in names \n",
    "          if name.count('e') >= 2]\n",
    "result"
   ]
  },
  {
   "cell_type": "markdown",
   "metadata": {},
   "source": [
    "#### 사례 2\n",
    "- flattening"
   ]
  },
  {
   "cell_type": "code",
   "execution_count": 30,
   "metadata": {},
   "outputs": [
    {
     "data": {
      "text/plain": [
       "[1, 2, 3, 4, 5, 6, 7, 8, 9]"
      ]
     },
     "execution_count": 30,
     "metadata": {},
     "output_type": "execute_result"
    }
   ],
   "source": [
    "some_tuples = [(1, 2, 3), (4, 5, 6), (7, 8, 9)]\n",
    "flattened = [x for tup in some_tuples for x in tup] # 일반 for 루프의 순서와 동일\n",
    "flattened"
   ]
  },
  {
   "cell_type": "code",
   "execution_count": 31,
   "metadata": {},
   "outputs": [
    {
     "data": {
      "text/plain": [
       "[[1, 2, 3], [4, 5, 6], [7, 8, 9]]"
      ]
     },
     "execution_count": 31,
     "metadata": {},
     "output_type": "execute_result"
    }
   ],
   "source": [
    "# 아래 경우는 중첩 Comprehension은 아님\n",
    "[[x for x in tup] for tup in some_tuples]"
   ]
  },
  {
   "cell_type": "markdown",
   "metadata": {},
   "source": [
    "# 5. 리스트 처리 관련 주요 함수\n",
    "> (1) enumerate    \n",
    "> (2) zip     \n",
    "> (3) 정렬     \n",
    "> (4) reversed()    \n",
    "> (5) 이진 탐색 관련   \n",
    "> (6) 기타 함수    \n",
    "\n",
    "파이썬에는 순차 자료형(sequence)에 사용할 수 있는 매우 유용한 함수가 있는데 꼭 익히는 것을 권장"
   ]
  },
  {
   "cell_type": "markdown",
   "metadata": {},
   "source": [
    "## (1) enumerate\n",
    "- enuerate() 함수는 순자형 자료에 대해 (index, value) 튜플을 반환\n",
    "- 순차 자료형에서 현재 항목(item 혹은 값)과 함께 그 위치(인덱스)를 함께 처리(추적)하고자 할때 사용\n",
    "\n",
    "- enumerate()를 사용하지 않는 경우\n",
    "\n",
    "```python\n",
    "i = 0\n",
    "for value in collection:\n",
    "   # do something with value\n",
    "   i += 1\n",
    "```\n",
    "\n",
    "- enuerate()를 사용한 경우\n",
    "  \n",
    "```python\n",
    "for i, value in enumerate(collection):\n",
    "   # do something with value\n",
    "```"
   ]
  },
  {
   "cell_type": "code",
   "execution_count": 32,
   "metadata": {},
   "outputs": [
    {
     "data": {
      "text/plain": [
       "<enumerate at 0x2386907da80>"
      ]
     },
     "execution_count": 32,
     "metadata": {},
     "output_type": "execute_result"
    },
    {
     "data": {
      "text/plain": [
       "[(0, 'a'), (1, 'b'), (2, 'c')]"
      ]
     },
     "execution_count": 32,
     "metadata": {},
     "output_type": "execute_result"
    }
   ],
   "source": [
    "# enumerate() 결과 확인하기\n",
    "x = enumerate([\"a\", \"b\", \"c\"])\n",
    "x\n",
    "\n",
    "list(x)"
   ]
  },
  {
   "cell_type": "code",
   "execution_count": 33,
   "metadata": {
    "scrolled": true
   },
   "outputs": [
    {
     "name": "stdout",
     "output_type": "stream",
     "text": [
      "i = 0, e = a\n",
      "i = 1, e = b\n",
      "i = 2, e = c\n"
     ]
    }
   ],
   "source": [
    "# 루프 카운터 만들어 사용하기\n",
    "for i, e in enumerate([\"a\", \"b\", \"c\"]):\n",
    "    print(\"i = %d, e = %s\" % (i, e))"
   ]
  },
  {
   "cell_type": "code",
   "execution_count": 34,
   "metadata": {},
   "outputs": [
    {
     "data": {
      "text/plain": [
       "[185, 175, 185, 170, 185, 200, 175, 155, 180, 170]"
      ]
     },
     "execution_count": 34,
     "metadata": {},
     "output_type": "execute_result"
    }
   ],
   "source": [
    "# 두 리스트의 합을 만들기\n",
    "s = [0, 0, 0, 0, 0, 0, 0, 0, 0, 0]\n",
    "a1 = [90, 85, 95, 80, 90, 100, 85, 75, 85, 80]\n",
    "a2 = [95, 90, 90, 90, 95, 100, 90, 80, 95, 90]\n",
    "\n",
    "for i, (a1[i], a2[i]) in enumerate(zip(a1, a2)):\n",
    "    s[i] = a1[i] + a2[i]\n",
    "s"
   ]
  },
  {
   "cell_type": "code",
   "execution_count": 35,
   "metadata": {},
   "outputs": [
    {
     "data": {
      "text/plain": [
       "{'foo': 0, 'bar': 1, 'baz': 2}"
      ]
     },
     "execution_count": 35,
     "metadata": {},
     "output_type": "execute_result"
    }
   ],
   "source": [
    "# 리스트로 사전 말들기\n",
    "x = ['foo', 'bar', 'baz']\n",
    "mapping = {}    # dictionary\n",
    "for i, v in enumerate(x):\n",
    "    mapping[v] = i\n",
    "mapping"
   ]
  },
  {
   "cell_type": "markdown",
   "metadata": {},
   "source": [
    "## (2) zip\n",
    "O 여러 개의 리스트를 받아 원소쌍으로 구성 zip 타입의 구조를 반환\n",
    "  - 리스트의 길이가 서로 다를 때는 작은 길이의 리스트를 기준으로 함"
   ]
  },
  {
   "cell_type": "code",
   "execution_count": 36,
   "metadata": {},
   "outputs": [
    {
     "data": {
      "text/plain": [
       "zip"
      ]
     },
     "execution_count": 36,
     "metadata": {},
     "output_type": "execute_result"
    },
    {
     "data": {
      "text/plain": [
       "[('foo', 'one'), ('bar', 'two'), ('baz', 'three')]"
      ]
     },
     "execution_count": 36,
     "metadata": {},
     "output_type": "execute_result"
    }
   ],
   "source": [
    "seq1 = ['foo', 'bar', 'baz']\n",
    "seq2 = ['one', 'two', 'three', 'four']\n",
    "zipped = zip(seq1, seq2)\n",
    "type(zipped)\n",
    "list(zipped)"
   ]
  },
  {
   "cell_type": "code",
   "execution_count": 37,
   "metadata": {},
   "outputs": [
    {
     "data": {
      "text/plain": [
       "[('foo', 'one', False), ('bar', 'two', True)]"
      ]
     },
     "execution_count": 37,
     "metadata": {},
     "output_type": "execute_result"
    }
   ],
   "source": [
    "seq3 = [False, True]\n",
    "list(zip(seq1, seq2, seq3))"
   ]
  },
  {
   "cell_type": "code",
   "execution_count": 38,
   "metadata": {},
   "outputs": [
    {
     "name": "stdout",
     "output_type": "stream",
     "text": [
      "0: foo, one\n",
      "1: bar, two\n",
      "2: baz, three\n"
     ]
    }
   ],
   "source": [
    "for i, (a, b) in enumerate(zip(seq1, seq2)):\n",
    "    print('{0}: {1}, {2}'.format(i, a, b))"
   ]
  },
  {
   "cell_type": "markdown",
   "metadata": {},
   "source": [
    "- zip을 사용해서 짝지어진 순차 자료형을 다시 풀 수도 있음\n",
    "- unpacking operator \\*를 사용: [참고사이트](https://realpython.com/python-kwargs-and-args/)"
   ]
  },
  {
   "cell_type": "code",
   "execution_count": 39,
   "metadata": {},
   "outputs": [
    {
     "data": {
      "text/plain": [
       "('FirstName:', 'Gildong', 'Daegu')"
      ]
     },
     "execution_count": 39,
     "metadata": {},
     "output_type": "execute_result"
    },
    {
     "data": {
      "text/plain": [
       "('SecondName:', 'Hong', 'Kim')"
      ]
     },
     "execution_count": 39,
     "metadata": {},
     "output_type": "execute_result"
    }
   ],
   "source": [
    "pitchers = [ ('FirstName:', 'SecondName:'),\n",
    "             ('Gildong', 'Hong'), \n",
    "             ('Daegu', 'Kim')]\n",
    "first_names, last_names = zip(*pitchers) \n",
    "first_names\n",
    "last_names"
   ]
  },
  {
   "cell_type": "code",
   "execution_count": 40,
   "metadata": {},
   "outputs": [
    {
     "data": {
      "text/plain": [
       "[9, 8, 7, 6, 5, 4, 3, 2, 1, 0]"
      ]
     },
     "execution_count": 40,
     "metadata": {},
     "output_type": "execute_result"
    }
   ],
   "source": [
    "list(reversed(range(10)))"
   ]
  },
  {
   "cell_type": "markdown",
   "metadata": {},
   "source": [
    "## (3) 정렬\n",
    " - sort() 메서드를 이용 (리스트 복사는 없음) \n",
    " - sorted()의 경우 정렬된 복사본을 반환"
   ]
  },
  {
   "cell_type": "code",
   "execution_count": 41,
   "metadata": {},
   "outputs": [
    {
     "data": {
      "text/plain": [
       "[1, 2, 3, 5, 7]"
      ]
     },
     "execution_count": 41,
     "metadata": {},
     "output_type": "execute_result"
    }
   ],
   "source": [
    "a = [7, 2, 5, 1, 3]\n",
    "a.sort()\n",
    "a"
   ]
  },
  {
   "cell_type": "code",
   "execution_count": 42,
   "metadata": {},
   "outputs": [
    {
     "data": {
      "text/plain": [
       "['He', 'saw', 'six', 'small', 'foxes']"
      ]
     },
     "execution_count": 42,
     "metadata": {},
     "output_type": "execute_result"
    }
   ],
   "source": [
    "b = ['saw', 'small', 'He', 'foxes', 'six']\n",
    "b.sort(key=len)  # 정렬기준이 문자열 길이\n",
    "b"
   ]
  },
  {
   "cell_type": "code",
   "execution_count": 43,
   "metadata": {},
   "outputs": [
    {
     "data": {
      "text/plain": [
       "[1, 2, 3, 5, 7]"
      ]
     },
     "execution_count": 43,
     "metadata": {},
     "output_type": "execute_result"
    }
   ],
   "source": [
    "sorted(a)"
   ]
  },
  {
   "cell_type": "code",
   "execution_count": 44,
   "metadata": {},
   "outputs": [
    {
     "data": {
      "text/plain": [
       "[0, 1, 2, 2, 3, 6, 7]"
      ]
     },
     "execution_count": 44,
     "metadata": {},
     "output_type": "execute_result"
    },
    {
     "data": {
      "text/plain": [
       "[' ', 'a', 'c', 'e', 'e', 'h', 'o', 'r', 'r', 's']"
      ]
     },
     "execution_count": 44,
     "metadata": {},
     "output_type": "execute_result"
    }
   ],
   "source": [
    "sorted([7, 1, 2, 6, 0, 3, 2])\n",
    "sorted('horse race')"
   ]
  },
  {
   "cell_type": "markdown",
   "metadata": {},
   "source": [
    "## (4) reversed\n",
    "- 순차형 자료를를 역순 순회. \n",
    "- reversed는 generator라는 점을 기억(추후, 자세히 다룸). \n",
    "- 즉, list()나 for문으로 모든 값을 다 받아오기 전에는 sequence 자료형을 생성하지 않음. "
   ]
  },
  {
   "cell_type": "markdown",
   "metadata": {},
   "source": [
    "## (5) 이진 탐색 관련\n",
    "O bisect 모듈 : 이진 탐색 및 정렬 리스트에 원소 추가 기능 제공\n",
    "  - bisect() 메서드:  특정 값이 추가될 위치 반환\n",
    "  - insort() 메서드:  값을 추가한 후 결과 리스트 반환"
   ]
  },
  {
   "cell_type": "code",
   "execution_count": 45,
   "metadata": {},
   "outputs": [
    {
     "data": {
      "text/plain": [
       "4"
      ]
     },
     "execution_count": 45,
     "metadata": {},
     "output_type": "execute_result"
    },
    {
     "data": {
      "text/plain": [
       "6"
      ]
     },
     "execution_count": 45,
     "metadata": {},
     "output_type": "execute_result"
    },
    {
     "data": {
      "text/plain": [
       "[1, 2, 2, 2, 3, 4, 6, 7]"
      ]
     },
     "execution_count": 45,
     "metadata": {},
     "output_type": "execute_result"
    }
   ],
   "source": [
    "import bisect\n",
    "c = [1, 2, 2, 2, 3, 4, 7]\n",
    "bisect.bisect(c, 2)\n",
    "bisect.bisect(c, 5)\n",
    "bisect.insort(c, 6)\n",
    "c"
   ]
  },
  {
   "cell_type": "markdown",
   "metadata": {},
   "source": [
    "## (6) 기타 함수\n",
    "\n",
    "### 자료의 개수 확인\n",
    "- 리스트 변수에 자료가 몇 개 들어가 있는지 알기 위해서는 len이라는 명령을 사용한다"
   ]
  },
  {
   "cell_type": "code",
   "execution_count": 46,
   "metadata": {},
   "outputs": [
    {
     "data": {
      "text/plain": [
       "3"
      ]
     },
     "execution_count": 46,
     "metadata": {},
     "output_type": "execute_result"
    }
   ],
   "source": [
    "a = [1, 2, 3]\n",
    "\n",
    "len(a)"
   ]
  },
  {
   "cell_type": "markdown",
   "metadata": {},
   "source": [
    "### 수열 생성하기 \n",
    "\n",
    "- range() 함수\n",
    "```\n",
    "  range(start, end+1, step)\n",
    "```"
   ]
  },
  {
   "cell_type": "markdown",
   "metadata": {},
   "source": [
    "- 0부터 n-1까지 1씩 증가하는 n개의 숫자를 가지는 수열 리스트는 <span style=color:pink>range </span>명령으로 생성한다. \n",
    "- 파이썬 버전 2에서는 <span style=color:pink>range </span>명령만 쓰면 되었지만, 파이썬 버전 3에서는 <span style=color:pink>range </span>명령으로 만들어진 값을 <span style=color:pink>list </span>명령을 사용하여 명시적으로 리스트로 바꾸어야 한다."
   ]
  },
  {
   "cell_type": "code",
   "execution_count": 47,
   "metadata": {},
   "outputs": [
    {
     "data": {
      "text/plain": [
       "[0, 1, 2, 3, 4, 5, 6, 7, 8, 9]"
      ]
     },
     "execution_count": 47,
     "metadata": {},
     "output_type": "execute_result"
    }
   ],
   "source": [
    "b = list(range(10))\n",
    "b"
   ]
  },
  {
   "cell_type": "markdown",
   "metadata": {},
   "source": [
    "- 0이 아닌 다른 수부터 증가하게 하려면 다음과 같이<span style=color:pink> range </span>명령에 두 개의 숫자를 넣는다. \n",
    "- <span style=color:pink>range </span>명령은 두 숫자 x, y 에 대해 x보다 같거나 크고(이상), y보다 작은(미만) 수열을 만든다. \n",
    "- 즉 x는 시작값(start), y는 포함되지 않는 끝값(end) 역할을 한다."
   ]
  },
  {
   "cell_type": "code",
   "execution_count": 48,
   "metadata": {},
   "outputs": [
    {
     "data": {
      "text/plain": [
       "[1, 2, 3, 4, 5, 6, 7, 8, 9]"
      ]
     },
     "execution_count": 48,
     "metadata": {},
     "output_type": "execute_result"
    }
   ],
   "source": [
    "c = list(range(1, 10))\n",
    "c"
   ]
  },
  {
   "cell_type": "markdown",
   "metadata": {},
   "source": [
    "- 1씩 증가하는 것이 아니라 2 혹은 3씩 증가하는 수열을 만들고 싶다면<span style=color:pink> range</span> 명령에 세 개의 숫자를 넣는다. \n",
    "- 세번째 숫자는 건너 뛰기 숫자(step) 역할을 한다."
   ]
  },
  {
   "cell_type": "code",
   "execution_count": 49,
   "metadata": {},
   "outputs": [
    {
     "data": {
      "text/plain": [
       "[1, 4, 7]"
      ]
     },
     "execution_count": 49,
     "metadata": {},
     "output_type": "execute_result"
    }
   ],
   "source": [
    "d = list(range(1, 10, 3))\n",
    "d"
   ]
  },
  {
   "cell_type": "markdown",
   "metadata": {},
   "source": [
    "[1, 4, 7]"
   ]
  },
  {
   "cell_type": "markdown",
   "metadata": {},
   "source": [
    "\n",
    "### 특정 값이 있는지(in) 없는지(not in) 확인"
   ]
  },
  {
   "cell_type": "code",
   "execution_count": 50,
   "metadata": {
    "scrolled": true
   },
   "outputs": [
    {
     "data": {
      "text/plain": [
       "False"
      ]
     },
     "execution_count": 50,
     "metadata": {},
     "output_type": "execute_result"
    },
    {
     "data": {
      "text/plain": [
       "True"
      ]
     },
     "execution_count": 50,
     "metadata": {},
     "output_type": "execute_result"
    }
   ],
   "source": [
    "'dwarf' in b_list\n",
    "\n",
    "'dwarf' not in b_list"
   ]
  },
  {
   "cell_type": "markdown",
   "metadata": {},
   "source": [
    "## 6. 리스트에 대한 반복문 사례\n",
    "> (1) 학생의 시험 성적 평균 구하기   \n",
    "> (2) 평량 평균 구하기\n",
    "\n",
    "## (1) 학생의 시험 성적 평균 구하기"
   ]
  },
  {
   "cell_type": "code",
   "execution_count": 51,
   "metadata": {},
   "outputs": [
    {
     "data": {
      "text/plain": [
       "52.7"
      ]
     },
     "execution_count": 51,
     "metadata": {},
     "output_type": "execute_result"
    }
   ],
   "source": [
    "# 학생이 5명이고 각 학생이 10번의 시험에 대한 성적을 가진다면 다음과 같이 리스트의 리스트로 전체 시험 성적을 나타낼 수 있다.\n",
    "\n",
    "X = [[85,  90,  20,  50,  60,  25,  30,  75,  40,  55],\n",
    "     [70, 100,  70,  70,  55,  75,  55,  60,  40,  45],\n",
    "     [25,  65,  15,  25,  20,   5,  60,  70,  35,  10],\n",
    "     [80,  45,  80,  40,  75,  35,  80,  55,  70,  90],\n",
    "     [35,  50,  75,  25,  35,  70,  65,  50,  70,  10]]\n",
    "\n",
    "X = [[85,  90,  20,  50,  60,  25,  30,  75,  40,  55],\n",
    "     [70, 100,  70,  70,  55,  75,  55,  60,  40,  45],\n",
    "     [25,  65,  15,  25,  20,   5,  60,  70,  35,  10],\n",
    "     [80,  45,  80,  40,  75,  35,  80,  55,  70,  90],\n",
    "     [35,  50,  75,  25,  35,  70,  65,  50,  70,  10]]\n",
    "\n",
    "# 이 때 전체 평균 점수는 다음과 같이 구한다.\n",
    "\n",
    "sum = 0\n",
    "num = 0\n",
    "for i in range(len(X)):\n",
    "    for j in range(len(X[i])):\n",
    "        num = num + 1\n",
    "        sum = sum + X[i][j]\n",
    "sum / num"
   ]
  },
  {
   "cell_type": "markdown",
   "metadata": {},
   "source": [
    "## (2) 평량 평균 구하기"
   ]
  },
  {
   "cell_type": "code",
   "execution_count": 52,
   "metadata": {
    "scrolled": true
   },
   "outputs": [
    {
     "name": "stdout",
     "output_type": "stream",
     "text": [
      "37\n",
      "11\n",
      "3.4\n"
     ]
    }
   ],
   "source": [
    "credit = [3, 3, 1, 2, 2]      # 과목의 학점\n",
    "grade  = [4, 3, 2, 3, 4]      # 과목별 성적\n",
    "\n",
    "points = 0     # 전체  point\n",
    "credit_total = 0   # 총 학점수\n",
    "\n",
    "for i in range(5):\n",
    "    points += grade[i]*credit[i] \n",
    "    credit_total += credit[i] \n",
    "\n",
    "gpa = points / credit_total\n",
    "\n",
    "print(points)\n",
    "print(credit_total)\n",
    "print(\"%.1f\" %gpa)\n",
    "    "
   ]
  }
 ],
 "metadata": {
  "accelerator": "GPU",
  "colab": {
   "collapsed_sections": [],
   "name": "PyTorch_chapter1.ipynb",
   "provenance": [
    {
     "file_id": "1uoOWiCZ8I3qClWEt4N0A0EO0OjOjWZwf",
     "timestamp": 1543828054136
    }
   ],
   "version": "0.3.2"
  },
  "kernelspec": {
   "display_name": "Python 3",
   "language": "python",
   "name": "python3"
  },
  "language_info": {
   "codemirror_mode": {
    "name": "ipython",
    "version": 3
   },
   "file_extension": ".py",
   "mimetype": "text/x-python",
   "name": "python",
   "nbconvert_exporter": "python",
   "pygments_lexer": "ipython3",
   "version": "3.8.8"
  }
 },
 "nbformat": 4,
 "nbformat_minor": 1
}
