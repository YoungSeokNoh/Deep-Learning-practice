{
 "cells": [
  {
   "cell_type": "code",
   "execution_count": 16,
   "id": "0e081d6d",
   "metadata": {},
   "outputs": [
    {
     "data": {
      "text/plain": [
       "[1, 2, 3]"
      ]
     },
     "execution_count": 16,
     "metadata": {},
     "output_type": "execute_result"
    }
   ],
   "source": [
    "# 리스트 생성\n",
    "\n",
    "a_list = [1,2,3]\n",
    "a_list"
   ]
  },
  {
   "cell_type": "code",
   "execution_count": 14,
   "id": "b998dda7",
   "metadata": {},
   "outputs": [
    {
     "data": {
      "text/plain": [
       "[1, 2, 3]"
      ]
     },
     "execution_count": 14,
     "metadata": {},
     "output_type": "execute_result"
    }
   ],
   "source": [
    "# 튜플을 리스트로 변환\n",
    "\n",
    "tup = (1,2,3)\n",
    "list(tup)"
   ]
  },
  {
   "cell_type": "code",
   "execution_count": 21,
   "id": "ae839a99",
   "metadata": {},
   "outputs": [
    {
     "data": {
      "text/plain": [
       "(1, 2, 3)"
      ]
     },
     "execution_count": 21,
     "metadata": {},
     "output_type": "execute_result"
    }
   ],
   "source": [
    "# 복수 할당\n",
    "\n",
    "h = [1,2,3]\n",
    "h1,h2,h3 = h\n",
    "\n",
    "h1,h2,h3"
   ]
  },
  {
   "cell_type": "code",
   "execution_count": 24,
   "id": "d96b2b95",
   "metadata": {},
   "outputs": [
    {
     "data": {
      "text/plain": [
       "(1, 3.14, 'b')"
      ]
     },
     "execution_count": 24,
     "metadata": {},
     "output_type": "execute_result"
    }
   ],
   "source": [
    "# 다른 데이터 타입끼리 리스트 구성 가능\n",
    "\n",
    "d = [1, 3.14, 'b']\n",
    "\n",
    "d[0],d[1],d[2]"
   ]
  },
  {
   "cell_type": "code",
   "execution_count": 26,
   "id": "f3614461",
   "metadata": {},
   "outputs": [
    {
     "data": {
      "text/plain": [
       "([1, 2], ['b', 2])"
      ]
     },
     "execution_count": 26,
     "metadata": {},
     "output_type": "execute_result"
    }
   ],
   "source": [
    "e = [[1,2],['b',2]]\n",
    "\n",
    "e[0], e[1]"
   ]
  },
  {
   "cell_type": "code",
   "execution_count": 30,
   "id": "308d8f6d",
   "metadata": {},
   "outputs": [
    {
     "data": {
      "text/plain": [
       "170"
      ]
     },
     "execution_count": 30,
     "metadata": {},
     "output_type": "execute_result"
    }
   ],
   "source": [
    "# 인덱싱\n",
    "\n",
    "x = [80,90,'홍길동']\n",
    "\n",
    "x[0] + x[1] "
   ]
  },
  {
   "cell_type": "code",
   "execution_count": 31,
   "id": "7f07eb49",
   "metadata": {},
   "outputs": [
    {
     "data": {
      "text/plain": [
       "[100, 90, '홍길동']"
      ]
     },
     "execution_count": 31,
     "metadata": {},
     "output_type": "execute_result"
    }
   ],
   "source": [
    "# 리스트 원소 변경\n",
    "\n",
    "x[0] = 100\n",
    "\n",
    "x"
   ]
  },
  {
   "cell_type": "code",
   "execution_count": 38,
   "id": "8de07d9c",
   "metadata": {},
   "outputs": [
    {
     "data": {
      "text/plain": [
       "[7, 8, 9]"
      ]
     },
     "execution_count": 38,
     "metadata": {},
     "output_type": "execute_result"
    }
   ],
   "source": [
    "# 음수를 사용한 인덱싱\n",
    "\n",
    "g = list(range(10))\n",
    "\n",
    "# 리스트 원소 맨 뒷자리 출력(-1)\n",
    "g[-1]\n",
    "# 리스트 원소 뒤에서 5번째 자리부터 -2자리 전 원소 까지 출력 \n",
    "g[-5:-2]\n",
    "# 리스트 원소 뒤에서 3번째 자리부터 끝까지 출력\n",
    "g[-3:]"
   ]
  },
  {
   "cell_type": "markdown",
   "id": "0a543d6d",
   "metadata": {},
   "source": [
    "연습 문제 1\n",
    "\n",
    "1. 리스트에는 숫자 뿐 아니라 문자 등 어떤 값도 넣을 수 있다. 10명으로 이루어진 반의 학생 이름을 생각하여 리스트 변수로 만들어 본다.\n",
    "\n",
    "2. 전학생이 왔다고 가정하여 리스트에 이름을 추가한다.\n",
    "\n",
    "3. 한 명이 전학을 갔다고 가정하고 리스트에서 이름을 삭제한다.\n",
    "\n",
    "4. 슬라이싱으로 5번 학생(1번 학생은 가장 처음에 있는 학생이다.)부터 9번 학생까지 5명의 이름을 담은 새로운 리스트를 만든다.\n",
    "\n",
    "연습 문제 2\n",
    "\n",
    "시험 성적을 나타내는 임의의 숫자 5개를 리스트 변수 score에 넣고 평균을 구한다."
   ]
  },
  {
   "cell_type": "code",
   "execution_count": 47,
   "id": "f9fa2c0a",
   "metadata": {},
   "outputs": [
    {
     "data": {
      "text/plain": [
       "[5, 6, 7, 8, 9]"
      ]
     },
     "execution_count": 47,
     "metadata": {},
     "output_type": "execute_result"
    }
   ],
   "source": [
    "# 연습 문제1\n",
    "\n",
    "s_list = list(range(10))\n",
    "s_list[0] = '홍길동'\n",
    "del s_list[1]\n",
    "\n",
    "#s_list\n",
    "s_list[4:]"
   ]
  },
  {
   "cell_type": "code",
   "execution_count": 51,
   "id": "f1f694ef",
   "metadata": {},
   "outputs": [
    {
     "data": {
      "text/plain": [
       "86.0"
      ]
     },
     "execution_count": 51,
     "metadata": {},
     "output_type": "execute_result"
    }
   ],
   "source": [
    "# 연습 문제2\n",
    "\n",
    "score = [100,70,85,90,85]\n",
    "sum = 0\n",
    "\n",
    "for i in score:\n",
    "    sum = sum + i\n",
    "sum / len(score)"
   ]
  },
  {
   "cell_type": "code",
   "execution_count": 53,
   "id": "aa2b1b6e",
   "metadata": {},
   "outputs": [
    {
     "data": {
      "text/plain": [
       "[2, 3, 7, 5]"
      ]
     },
     "execution_count": 53,
     "metadata": {},
     "output_type": "execute_result"
    }
   ],
   "source": [
    "# 슬라이싱\n",
    "\n",
    "seq = [7,2,3,7,5,6,0,1]\n",
    "seq[1:5]"
   ]
  },
  {
   "cell_type": "code",
   "execution_count": 54,
   "id": "1c54b9b7",
   "metadata": {},
   "outputs": [
    {
     "data": {
      "text/plain": [
       "[7, 2, 3, 6, 3, 5, 6, 0, 1]"
      ]
     },
     "execution_count": 54,
     "metadata": {},
     "output_type": "execute_result"
    }
   ],
   "source": [
    "# 슬라이싱을 활용한 값 변경\n",
    "\n",
    "seq[3:4] = [6,3]\n",
    "seq"
   ]
  },
  {
   "cell_type": "code",
   "execution_count": 57,
   "id": "0657fca0",
   "metadata": {},
   "outputs": [
    {
     "data": {
      "text/plain": [
       "[3, 5, 6]"
      ]
     },
     "execution_count": 57,
     "metadata": {},
     "output_type": "execute_result"
    }
   ],
   "source": [
    "# 슬라이싱에서 -1의 의미는 맨뒤에서 부터라는 의미\n",
    "\n",
    "seq[-5:-2]"
   ]
  },
  {
   "cell_type": "code",
   "execution_count": 58,
   "id": "5e24e963",
   "metadata": {},
   "outputs": [
    {
     "data": {
      "text/plain": [
       "[7, 3, 3, 6, 1]"
      ]
     },
     "execution_count": 58,
     "metadata": {},
     "output_type": "execute_result"
    }
   ],
   "source": [
    "# 슬라이싱에서 두번쨰 콜론 다음에 간격(step) 지정 가능\n",
    "\n",
    "# 2칸씩 출력\n",
    "seq[::2]"
   ]
  },
  {
   "cell_type": "code",
   "execution_count": 59,
   "id": "630e36fa",
   "metadata": {},
   "outputs": [
    {
     "data": {
      "text/plain": [
       "[1, 0, 6, 5, 3, 6, 3, 2, 7]"
      ]
     },
     "execution_count": 59,
     "metadata": {},
     "output_type": "execute_result"
    }
   ],
   "source": [
    "# 스텝 자리에 -1 사용 시, 역순으로 출력\n",
    "\n",
    "seq[::-1]"
   ]
  },
  {
   "cell_type": "code",
   "execution_count": 60,
   "id": "db54367a",
   "metadata": {},
   "outputs": [
    {
     "data": {
      "text/plain": [
       "['foo', 'bar', 'baz', 'dwarf']"
      ]
     },
     "execution_count": 60,
     "metadata": {},
     "output_type": "execute_result"
    }
   ],
   "source": [
    "# append() 메소드 - 리스트의 끝에 새로운 값 추가\n",
    "\n",
    "b_list = ['foo','bar','baz']\n",
    "b_list.append('dwarf')\n",
    "\n",
    "b_list"
   ]
  },
  {
   "cell_type": "code",
   "execution_count": 61,
   "id": "ad2aeaa9",
   "metadata": {},
   "outputs": [
    {
     "data": {
      "text/plain": [
       "['foo', 'red', 'bar', 'baz', 'dwarf']"
      ]
     },
     "execution_count": 61,
     "metadata": {},
     "output_type": "execute_result"
    }
   ],
   "source": [
    "# insert() 메소드 - 특정 위치를 지정하여 새로운 값 추가\n",
    "\n",
    "b_list.insert(1,'red')\n",
    "\n",
    "b_list"
   ]
  },
  {
   "cell_type": "code",
   "execution_count": 62,
   "id": "a0afc1ac",
   "metadata": {},
   "outputs": [
    {
     "data": {
      "text/plain": [
       "['foo', 'bar']"
      ]
     },
     "execution_count": 62,
     "metadata": {},
     "output_type": "execute_result"
    }
   ],
   "source": [
    "# pop() 메소드 - 특정 위치 값을 반환하고 해당 값을 리스트에서 삭제\n",
    "\n",
    "b_list = ['foo', 'bar', 'baz']\n",
    "b_list.pop(2)\n",
    "\n",
    "b_list"
   ]
  },
  {
   "cell_type": "code",
   "execution_count": 63,
   "id": "76f5d9dc",
   "metadata": {},
   "outputs": [
    {
     "data": {
      "text/plain": [
       "['bpok', 'note']"
      ]
     },
     "execution_count": 63,
     "metadata": {},
     "output_type": "execute_result"
    }
   ],
   "source": [
    "# remove() 메소드 - 리스트에서 특정 원소값을 명시해서 삭제\n",
    "\n",
    "b_list = ['foo','book','note']\n",
    "b_list.remove('foo')\n",
    "\n",
    "b_list"
   ]
  },
  {
   "cell_type": "code",
   "execution_count": 64,
   "id": "2e0554ea",
   "metadata": {},
   "outputs": [
    {
     "data": {
      "text/plain": [
       "[1, 2, 3, 4, 5, 6, 7, 8, 9]"
      ]
     },
     "execution_count": 64,
     "metadata": {},
     "output_type": "execute_result"
    }
   ],
   "source": [
    "# del 명령어 - 원소 삭제\n",
    "\n",
    "f = list(range(10))\n",
    "del f[0]\n",
    "\n",
    "f"
   ]
  },
  {
   "cell_type": "code",
   "execution_count": 66,
   "id": "97a54c86",
   "metadata": {},
   "outputs": [
    {
     "data": {
      "text/plain": [
       "[1, 2, 3, 'a', 'b', 'c']"
      ]
     },
     "execution_count": 66,
     "metadata": {},
     "output_type": "execute_result"
    }
   ],
   "source": [
    "# '+'연산자를 사용하여 2개의 리스트를 합칠 수 있음\n",
    "\n",
    "a_list = [1,2,3]\n",
    "b_list = ['a','b','c']\n",
    "\n",
    "a_list+b_list"
   ]
  },
  {
   "cell_type": "code",
   "execution_count": 67,
   "id": "5808e64b",
   "metadata": {},
   "outputs": [
    {
     "data": {
      "text/plain": [
       "[4, None, 'foo', 7, 8, (2, 3)]"
      ]
     },
     "execution_count": 67,
     "metadata": {},
     "output_type": "execute_result"
    }
   ],
   "source": [
    "#extend() 메소드 - 여러 개의 값을 추가\n",
    "\n",
    "x = [4,None,'foo']\n",
    "x.extend([7,8,(2,3)])\n",
    "\n",
    "x"
   ]
  },
  {
   "cell_type": "code",
   "execution_count": 69,
   "id": "d069954b",
   "metadata": {},
   "outputs": [
    {
     "data": {
      "text/plain": [
       "[(0, 'a'), (1, 'b'), (2, 'c')]"
      ]
     },
     "execution_count": 69,
     "metadata": {},
     "output_type": "execute_result"
    }
   ],
   "source": [
    "# enumerate() - 순차형 자료에 대해 (index,value) 튜플 반환\n",
    "# 주로 순차 자료형에서 현재 항목과 함께 그 위치(index)를 함께 처리 하고자 할때 사용\n",
    "# enumerate 사용 후, 꼭 리스트 형식으로 변환해줘야 값 확인 가능!!!\n",
    "\n",
    "x = enumerate(['a','b','c'])\n",
    "\n",
    "#x\n",
    "list(x)"
   ]
  },
  {
   "cell_type": "code",
   "execution_count": 71,
   "id": "e1dfc8da",
   "metadata": {},
   "outputs": [
    {
     "name": "stdout",
     "output_type": "stream",
     "text": [
      "i=0, e=a\n",
      "i=1, e=b\n",
      "i=2, e=c\n"
     ]
    }
   ],
   "source": [
    "for i,e in enumerate(['a','b','c']):\n",
    "    print(f\"i={i}, e={e}\")"
   ]
  },
  {
   "cell_type": "code",
   "execution_count": 72,
   "id": "afed2838",
   "metadata": {},
   "outputs": [],
   "source": [
    "# 두 리스트의 합을 만들기\n",
    "\n",
    "s = [0, 0, 0, 0, 0, 0, 0, 0, 0, 0]\n",
    "a1 = [90, 85, 95, 80, 90, 100, 85, 75, 85, 80]\n",
    "a2 = [95, 90, 90, 90, 95, 100, 90, 80, 95, 90]\n",
    "\n"
   ]
  },
  {
   "cell_type": "code",
   "execution_count": 74,
   "id": "a07b2d1c",
   "metadata": {},
   "outputs": [
    {
     "data": {
      "text/plain": [
       "{'foo': 0, 'bar': 1, 'baz': 2}"
      ]
     },
     "execution_count": 74,
     "metadata": {},
     "output_type": "execute_result"
    }
   ],
   "source": [
    "# 리스트로 사전 만들기\n",
    "\n",
    "x = ['foo','bar','baz']\n",
    "mapping={} # 딕셔너리 변수 선언\n",
    "for i,v in enumerate(x):\n",
    "    mapping[v] = i\n",
    "    \n",
    "mapping"
   ]
  },
  {
   "cell_type": "code",
   "execution_count": 78,
   "id": "c87cd7a8",
   "metadata": {},
   "outputs": [
    {
     "data": {
      "text/plain": [
       "[('foo', 'one'), ('bar', 'two'), ('baz', 'three')]"
      ]
     },
     "execution_count": 78,
     "metadata": {},
     "output_type": "execute_result"
    }
   ],
   "source": [
    "# zip - 여러 개의 리스트를 받아 원소 쌍으로 구성\n",
    "\n",
    "seq1 = ['foo', 'bar', 'baz']\n",
    "seq2 = ['one', 'two', 'three', 'four']\n",
    "zipped = zip(seq1,seq2)\n",
    "\n",
    "#type(zipped)\n",
    "list(zipped) # 리스트로 변환 하여 결과 출력"
   ]
  },
  {
   "cell_type": "code",
   "execution_count": 80,
   "id": "1f5e6be4",
   "metadata": {},
   "outputs": [
    {
     "data": {
      "text/plain": [
       "[('foo', 'one', False), ('bar', 'two', True)]"
      ]
     },
     "execution_count": 80,
     "metadata": {},
     "output_type": "execute_result"
    }
   ],
   "source": [
    "seq3 = [False, True]\n",
    "\n",
    "list(zip(seq1,seq2,seq3))"
   ]
  },
  {
   "cell_type": "code",
   "execution_count": 83,
   "id": "8eee1895",
   "metadata": {},
   "outputs": [
    {
     "name": "stdout",
     "output_type": "stream",
     "text": [
      "0: foo, one\n",
      "1: bar, two\n",
      "2: baz, three\n"
     ]
    }
   ],
   "source": [
    "for i, (a,b) in enumerate(zip(seq1, seq2)):\n",
    "    print(f\"{i}: {a}, {b}\")"
   ]
  },
  {
   "cell_type": "code",
   "execution_count": 85,
   "id": "849632c1",
   "metadata": {},
   "outputs": [
    {
     "data": {
      "text/plain": [
       "('SecondName:', 'Hong', 'Kim')"
      ]
     },
     "execution_count": 85,
     "metadata": {},
     "output_type": "execute_result"
    }
   ],
   "source": [
    "# * - zip 풀기\n",
    "\n",
    "pitchers = [ ('FirstName:', 'SecondName:'),\n",
    "             ('Gildong', 'Hong'), \n",
    "             ('Daegu', 'Kim')]\n",
    "first_names, last_names = zip(*pitchers) \n",
    "\n",
    "first_names"
   ]
  },
  {
   "cell_type": "code",
   "execution_count": 87,
   "id": "dd2fe986",
   "metadata": {},
   "outputs": [
    {
     "data": {
      "text/plain": [
       "('SecondName:', 'Hong', 'Kim')"
      ]
     },
     "execution_count": 87,
     "metadata": {},
     "output_type": "execute_result"
    }
   ],
   "source": [
    "last_names"
   ]
  },
  {
   "cell_type": "code",
   "execution_count": 89,
   "id": "a70b7333",
   "metadata": {},
   "outputs": [
    {
     "data": {
      "text/plain": [
       "[1, 2, 3, 5, 7]"
      ]
     },
     "execution_count": 89,
     "metadata": {},
     "output_type": "execute_result"
    }
   ],
   "source": [
    "# 정렬\n",
    "# sort() 메소드\n",
    "# sorted() 메소드 - 정렬 된 복사본을 반환\n",
    "\n",
    "a = [7,2,3,5,1]\n",
    "a.sort()\n",
    "\n",
    "a"
   ]
  },
  {
   "cell_type": "code",
   "execution_count": 91,
   "id": "0884d43b",
   "metadata": {},
   "outputs": [
    {
     "data": {
      "text/plain": [
       "['He', 'saw', 'six', 'small', 'foxes']"
      ]
     },
     "execution_count": 91,
     "metadata": {},
     "output_type": "execute_result"
    }
   ],
   "source": [
    "b = ['saw', 'small', 'He', 'foxes', 'six']\n",
    "b.sort(key=len) # 정렬 기준이 문자열 길이\n",
    "\n",
    "b"
   ]
  },
  {
   "cell_type": "code",
   "execution_count": 94,
   "id": "781e6c10",
   "metadata": {},
   "outputs": [
    {
     "data": {
      "text/plain": [
       "[3, 4, 6, 1, 2]"
      ]
     },
     "execution_count": 94,
     "metadata": {},
     "output_type": "execute_result"
    }
   ],
   "source": [
    "b = [3,4,6,1,2]\n",
    "\n",
    "sorted(b) # 정렬 된 복사본 출력"
   ]
  },
  {
   "cell_type": "code",
   "execution_count": 95,
   "id": "f300af75",
   "metadata": {},
   "outputs": [
    {
     "data": {
      "text/plain": [
       "[9, 8, 7, 6, 5, 4, 3, 2, 1, 0]"
      ]
     },
     "execution_count": 95,
     "metadata": {},
     "output_type": "execute_result"
    }
   ],
   "source": [
    "# reversed - 순차형 자료를 역순 순회\n",
    "\n",
    "a = list(reversed(range(10)))\n",
    "\n",
    "a"
   ]
  },
  {
   "cell_type": "code",
   "execution_count": 96,
   "id": "2eaf41f6",
   "metadata": {},
   "outputs": [
    {
     "data": {
      "text/plain": [
       "30"
      ]
     },
     "execution_count": 96,
     "metadata": {},
     "output_type": "execute_result"
    }
   ],
   "source": [
    "# len 명령 - 리스트 변수에 자료의 갯수 출력\n",
    "\n",
    "a = list(range(30))\n",
    "\n",
    "len(a)"
   ]
  },
  {
   "cell_type": "code",
   "execution_count": 110,
   "id": "401a9a7f",
   "metadata": {},
   "outputs": [
    {
     "data": {
      "text/plain": [
       "52.7"
      ]
     },
     "execution_count": 110,
     "metadata": {},
     "output_type": "execute_result"
    }
   ],
   "source": [
    "# 학생이 5명이고 각 학생이 10번의 시험에 대한 성적을 가진다면 다음과 같이 리스트의 리스트로 전체 시험 성적을 나타낼 수 있다.\n",
    "\n",
    "X = [[85,  90,  20,  50,  60,  25,  30,  75,  40,  55],\n",
    "     [70, 100,  70,  70,  55,  75,  55,  60,  40,  45],\n",
    "     [25,  65,  15,  25,  20,   5,  60,  70,  35,  10],\n",
    "     [80,  45,  80,  40,  75,  35,  80,  55,  70,  90],\n",
    "     [35,  50,  75,  25,  35,  70,  65,  50,  70,  10]]\n",
    "\n",
    "# 이 때 전체 평균 점수는 다음과 같이 구한다.\n",
    "\n",
    "sum = 0\n",
    "num = 0\n",
    "for i in range(len(X)):\n",
    "    for j in range(len(X[i])):\n",
    "    \n",
    "        num = num + 1\n",
    "        sum = sum + X[i][j]\n",
    "        \n",
    "sum / num"
   ]
  },
  {
   "cell_type": "code",
   "execution_count": 114,
   "id": "130b97ee",
   "metadata": {},
   "outputs": [
    {
     "data": {
      "text/plain": [
       "{'math': 88, 'english': 90}"
      ]
     },
     "execution_count": 114,
     "metadata": {},
     "output_type": "execute_result"
    }
   ],
   "source": [
    "# 사전 \n",
    "\n",
    "b = {'math':88, 'english':90}\n",
    "\n",
    "b"
   ]
  },
  {
   "cell_type": "code",
   "execution_count": 115,
   "id": "9d44f3da",
   "metadata": {},
   "outputs": [
    {
     "data": {
      "text/plain": [
       "{1: '홍길동', '도시': '대구', '우편번호': '123-456'}"
      ]
     },
     "execution_count": 115,
     "metadata": {},
     "output_type": "execute_result"
    }
   ],
   "source": [
    "d1 = {1:'홍길동', '도시':'대구', '우편번호':'123-456'} # 다양한 데이터 타입 적용 가능\n",
    "\n",
    "d1"
   ]
  },
  {
   "cell_type": "code",
   "execution_count": 116,
   "id": "7b493321",
   "metadata": {},
   "outputs": [
    {
     "data": {
      "text/plain": [
       "'홍길동'"
      ]
     },
     "execution_count": 116,
     "metadata": {},
     "output_type": "execute_result"
    }
   ],
   "source": [
    "d1[1] # 사전 데이터 항목 읽기"
   ]
  },
  {
   "cell_type": "code",
   "execution_count": 117,
   "id": "76dff73e",
   "metadata": {},
   "outputs": [
    {
     "data": {
      "text/plain": [
       "{1: '김철수', '도시': '대구', '우편번호': '123-456'}"
      ]
     },
     "execution_count": 117,
     "metadata": {},
     "output_type": "execute_result"
    }
   ],
   "source": [
    "d1[1] = '김철수' # 사전 데이터 항목 쓰기\n",
    "\n",
    "d1"
   ]
  },
  {
   "cell_type": "code",
   "execution_count": 118,
   "id": "6086ba04",
   "metadata": {},
   "outputs": [
    {
     "data": {
      "text/plain": [
       "{1: '김철수', '도시': '대구', '우편번호': '123-456', 2: '이순신'}"
      ]
     },
     "execution_count": 118,
     "metadata": {},
     "output_type": "execute_result"
    }
   ],
   "source": [
    "d1[2] = '이순신' # 사전 데이터 추가\n",
    "d1"
   ]
  },
  {
   "cell_type": "code",
   "execution_count": 121,
   "id": "1cd58831",
   "metadata": {},
   "outputs": [
    {
     "data": {
      "text/plain": [
       "True"
      ]
     },
     "execution_count": 121,
     "metadata": {},
     "output_type": "execute_result"
    }
   ],
   "source": [
    "'도시' in d1 # 해당 키를 갖는 항목이 존재하는지 검사"
   ]
  },
  {
   "cell_type": "code",
   "execution_count": 124,
   "id": "2f58aa1e",
   "metadata": {},
   "outputs": [
    {
     "data": {
      "text/plain": [
       "{0: 9, 1: 8, 2: 7, 3: 6, 4: 5, 5: 4, 6: 3, 7: 2, 8: 1, 9: 0}"
      ]
     },
     "execution_count": 124,
     "metadata": {},
     "output_type": "execute_result"
    }
   ],
   "source": [
    "# 순차형 자료로 사전 생성\n",
    "\n",
    "mapping = dict(zip(range(10), reversed(range(10))))\n",
    "\n",
    "mapping"
   ]
  },
  {
   "cell_type": "code",
   "execution_count": 127,
   "id": "5f68e5c7",
   "metadata": {},
   "outputs": [
    {
     "data": {
      "text/plain": [
       "[90, 100, 95]"
      ]
     },
     "execution_count": 127,
     "metadata": {},
     "output_type": "execute_result"
    }
   ],
   "source": [
    "# 키와 값의 목록 \n",
    "\n",
    "a = {'math':90, 'science':100, 'korean':95}\n",
    "\n",
    "list(a.values()) # 사전의 값을 리스트 형식으로 변환 후 출력"
   ]
  },
  {
   "cell_type": "code",
   "execution_count": 135,
   "id": "550df6a9",
   "metadata": {},
   "outputs": [
    {
     "name": "stdout",
     "output_type": "stream",
     "text": [
      "1 3 4 "
     ]
    }
   ],
   "source": [
    "# 키 기반한 반복문\n",
    "\n",
    "dict = {1:'A', 3:'C', 4:'D'}\n",
    "\n",
    "for k in dict.keys():\n",
    "    print(k, end = ' ')"
   ]
  },
  {
   "cell_type": "code",
   "execution_count": 137,
   "id": "39f72f00",
   "metadata": {},
   "outputs": [
    {
     "name": "stdout",
     "output_type": "stream",
     "text": [
      "A C D "
     ]
    }
   ],
   "source": [
    "# 값 기반한 반복문\n",
    "\n",
    "for v in dict.values():\n",
    "    print(v, end = \" \")"
   ]
  },
  {
   "cell_type": "code",
   "execution_count": 139,
   "id": "d08860b1",
   "metadata": {},
   "outputs": [
    {
     "name": "stdout",
     "output_type": "stream",
     "text": [
      "key 1, val A\n",
      "key 3, val C\n",
      "key 4, val D\n"
     ]
    }
   ],
   "source": [
    "# 키와 값 쌍을 기반한 반복문 (items() 사용)\n",
    "\n",
    "for k,v in dict.items():\n",
    "    print(f\"key {k}, val {v}\")"
   ]
  },
  {
   "cell_type": "code",
   "execution_count": 141,
   "id": "379cfd45",
   "metadata": {},
   "outputs": [
    {
     "data": {
      "text/plain": [
       "{'a': 'pencil', 'b': [1, 2, 3, 4], 'c': 12}"
      ]
     },
     "execution_count": 141,
     "metadata": {},
     "output_type": "execute_result"
    }
   ],
   "source": [
    "# update() 메소드 - 두 개의 사전 병합\n",
    "\n",
    "a = {'a' : 'book', 'b' : [1,2,3,4]}\n",
    "a.update({'a':'pencil', 'c':12}) # 이미 존재하는 key에 대해 update 호출 시 이전 값은 사라짐\n",
    "\n",
    "a"
   ]
  },
  {
   "cell_type": "code",
   "execution_count": 146,
   "id": "23a60e49",
   "metadata": {},
   "outputs": [
    {
     "data": {
      "text/plain": [
       "[None, 'A', None, 'C', 'D']"
      ]
     },
     "execution_count": 146,
     "metadata": {},
     "output_type": "execute_result"
    }
   ],
   "source": [
    "# 기본값 관련\n",
    "# 불연속 정수 키를 갖는 사전의 값 리스트 생성\n",
    "\n",
    "dic = {1:'A', 3:'C', 4:'D'}\n",
    "\n",
    "value_list = []\n",
    "defalut_value = None\n",
    "\n",
    "for key in range(5):\n",
    "    if key in dic:\n",
    "        value = dic[key]\n",
    "    else:\n",
    "        value = defalut_value\n",
    "    value_list.append(value)\n",
    "    \n",
    "value_list"
   ]
  },
  {
   "cell_type": "code",
   "execution_count": null,
   "id": "2c3a422a",
   "metadata": {},
   "outputs": [],
   "source": [
    "# get() 사용\n",
    "\n",
    "dic = {1:'A', 3:'C', 4:'D'}\n",
    "\n",
    "value_list = []\n",
    "defalut_value = None\n",
    "\n",
    "for key in range(5)"
   ]
  }
 ],
 "metadata": {
  "kernelspec": {
   "display_name": "Python 3",
   "language": "python",
   "name": "python3"
  },
  "language_info": {
   "codemirror_mode": {
    "name": "ipython",
    "version": 3
   },
   "file_extension": ".py",
   "mimetype": "text/x-python",
   "name": "python",
   "nbconvert_exporter": "python",
   "pygments_lexer": "ipython3",
   "version": "3.8.8"
  }
 },
 "nbformat": 4,
 "nbformat_minor": 5
}
